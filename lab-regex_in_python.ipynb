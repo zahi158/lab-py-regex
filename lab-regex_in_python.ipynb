{
 "cells": [
  {
   "cell_type": "markdown",
   "metadata": {},
   "source": [
    "# LAB | Regular Expressions (Regex) in Python"
   ]
  },
  {
   "cell_type": "markdown",
   "metadata": {},
   "source": [
    "## Overview\n",
    "This exercise notebook will help you practice using regular expressions in Python. Regular expressions are powerful tools for matching patterns in strings, which can be useful for validation, searching, and data manipulation.\n",
    "\n",
    "## Instructions\n",
    "- Complete each exercise by writing the appropriate regex pattern and Python code in the provided space.\n",
    "- Test your code to ensure it works as expected.\n",
    "<!-- - Use the hints provided if you get stuck. -->"
   ]
  },
  {
   "cell_type": "markdown",
   "metadata": {},
   "source": [
    "### Exercise 1: Match Email Addresses\n",
    "Write a regex pattern to match valid email addresses. An email address should contain an '@' symbol and a domain."
   ]
  },
  {
   "cell_type": "code",
   "execution_count": 14,
   "metadata": {},
   "outputs": [
    {
     "name": "stdout",
     "output_type": "stream",
     "text": [
      "Valid email\n"
     ]
    }
   ],
   "source": [
    "import re\n",
    "\n",
    "# Example input\n",
    "email = \"example@example.com\"\n",
    "\n",
    "# Your regex pattern here\n",
    "pattern = r'^[\\w\\.-]+@[\\w\\.-]+\\.\\w+$'\n",
    "\n",
    "# Test the regex\n",
    "if re.match(pattern, email):\n",
    "    print(\"Valid email\")\n",
    "else:\n",
    "    print(\"Invalid email\")"
   ]
  },
  {
   "cell_type": "markdown",
   "metadata": {},
   "source": [
    "### Exercise 2: Validate Phone Numbers\n",
    "Create a regex pattern to validate phone numbers in the format (123) 456-7890 or 123-456-7890."
   ]
  },
  {
   "cell_type": "code",
   "execution_count": 15,
   "metadata": {},
   "outputs": [
    {
     "name": "stdout",
     "output_type": "stream",
     "text": [
      "Valid phone number\n"
     ]
    }
   ],
   "source": [
    "import re\n",
    "\n",
    "# Example input\n",
    "phone_number = \"(123) 456-7890\"\n",
    "\n",
    "# Your regex pattern here\n",
    "pattern = r'^(\\(\\d{3}\\)\\s|\\d{3}-)\\d{3}-\\d{4}$'\n",
    "\n",
    "# Test the regex\n",
    "if re.match(pattern, phone_number):\n",
    "    print(\"Valid phone number\")\n",
    "else:\n",
    "    print(\"Invalid phone number\")"
   ]
  },
  {
   "cell_type": "markdown",
   "metadata": {},
   "source": [
    "### Exercise 3: Extract Dates\n",
    "Write a regex pattern to extract dates in the format YYYY-MM-DD from a string."
   ]
  },
  {
   "cell_type": "code",
   "execution_count": 8,
   "metadata": {},
   "outputs": [
    {
     "name": "stdout",
     "output_type": "stream",
     "text": [
      "['2024-12-25']\n"
     ]
    }
   ],
   "source": [
    "import re\n",
    "\n",
    "# Example input\n",
    "text = \"The event is scheduled for 2024-12-25.\"\n",
    "\n",
    "# Your regex pattern here\n",
    "pattern = r'\\b\\d{4}-\\d{2}-\\d{2}\\b'\n",
    "\n",
    "# Find all matches\n",
    "dates = re.findall(pattern, text)\n",
    "print(dates)"
   ]
  },
  {
   "cell_type": "markdown",
   "metadata": {},
   "source": [
    "### Exercise 4: Match URLs\n",
    "Create a regex pattern to match URLs that start with http:// or https://."
   ]
  },
  {
   "cell_type": "code",
   "execution_count": 16,
   "metadata": {},
   "outputs": [
    {
     "name": "stdout",
     "output_type": "stream",
     "text": [
      "Valid URL\n"
     ]
    }
   ],
   "source": [
    "import re\n",
    "\n",
    "# Example input\n",
    "url = \"https://www.example.com\"\n",
    "\n",
    "# Your regex pattern here\n",
    "pattern = r'^https?://[^\\s/$.?#].[^\\s]*$'\n",
    "\n",
    "# Test the regex\n",
    "if re.match(pattern, url):\n",
    "    print(\"Valid URL\")\n",
    "else:\n",
    "    print(\"Invalid URL\")"
   ]
  },
  {
   "cell_type": "markdown",
   "metadata": {},
   "source": [
    "### Exercise 5: Find Words Starting with a Specific Letter\n",
    "Write a regex pattern to find all words starting with the letter 'a' in a given string."
   ]
  },
  {
   "cell_type": "code",
   "execution_count": 6,
   "metadata": {},
   "outputs": [
    {
     "name": "stdout",
     "output_type": "stream",
     "text": [
      "['A', 'a']\n"
     ]
    }
   ],
   "source": [
    "import re\n",
    "\n",
    "# Example input\n",
    "text = \"A quick brown fox jumps over a lazy dog.\"\n",
    "\n",
    "# Your regex pattern here\n",
    "pattern = r'\\b[aA]\\w*'\n",
    "\n",
    "# Find all matches\n",
    "words = re.findall(pattern, text)\n",
    "print(words)"
   ]
  },
  {
   "cell_type": "markdown",
   "metadata": {},
   "source": [
    "### Exercise 6: Match Hexadecimal Colors\n",
    "Create a regex pattern to match hexadecimal color codes (e.g., #FFFFFF)."
   ]
  },
  {
   "cell_type": "code",
   "execution_count": 17,
   "metadata": {},
   "outputs": [
    {
     "name": "stdout",
     "output_type": "stream",
     "text": [
      "Valid hex color code\n"
     ]
    }
   ],
   "source": [
    "import re\n",
    "\n",
    "# Example input\n",
    "color_code = \"#FFFFFF\"\n",
    "\n",
    "# Your regex pattern here\n",
    "pattern = r'^#([A-Fa-f0-9]{6}|[A-Fa-f0-9]{3})$'\n",
    "\n",
    "# Test the regex\n",
    "if re.match(pattern, color_code):\n",
    "    print(\"Valid hex color code\")\n",
    "else:\n",
    "    print(\"Invalid hex color code\")"
   ]
  },
  {
   "cell_type": "markdown",
   "metadata": {},
   "source": [
    "### Exercise 7: Validate Passwords \n",
    "Write a regex pattern to validate passwords that must be at least 8 characters long and contain at least one uppercase letter, one lowercase letter, one digit, and one special character."
   ]
  },
  {
   "cell_type": "code",
   "execution_count": 13,
   "metadata": {},
   "outputs": [
    {
     "name": "stdout",
     "output_type": "stream",
     "text": [
      "Valid password\n"
     ]
    }
   ],
   "source": [
    "import re\n",
    "\n",
    "# Example input\n",
    "password = \"Password123!\"\n",
    "\n",
    "# Your regex pattern here\n",
    "pattern = r\"^(?=.*[a-z])(?=.*[A-Z])(?=.*\\d)(?=.*[^A-Za-z0-9]).{8,}$\"\n",
    "\n",
    "# Test the regex\n",
    "if re.match(pattern, password):\n",
    "    print(\"Valid password\")\n",
    "else:\n",
    "    print(\"Invalid password\")"
   ]
  },
  {
   "cell_type": "markdown",
   "metadata": {},
   "source": [
    "### Exercise 8: Remove Extra Spaces \n",
    "Create a regex pattern that removes extra spaces from a string while keeping single spaces between words."
   ]
  },
  {
   "cell_type": "code",
   "execution_count": 18,
   "metadata": {},
   "outputs": [
    {
     "name": "stdout",
     "output_type": "stream",
     "text": [
      "Thisisanexample.\n"
     ]
    }
   ],
   "source": [
    "import re\n",
    "\n",
    "# Example input\n",
    "text = \"This   is   an   example.\"\n",
    "\n",
    "# Your regex pattern here\n",
    "pattern = r'\\s{2,}'\n",
    "\n",
    "# Replace extra spaces\n",
    "cleaned_text = re.sub(pattern, \"\", text)\n",
    "print(cleaned_text)"
   ]
  },
  {
   "cell_type": "markdown",
   "metadata": {},
   "source": [
    "### Exercise 9: Match IP Addresses \n",
    "Write a regex pattern to match valid IPv4 addresses."
   ]
  },
  {
   "cell_type": "code",
   "execution_count": 19,
   "metadata": {},
   "outputs": [
    {
     "name": "stdout",
     "output_type": "stream",
     "text": [
      "Valid IP address\n"
     ]
    }
   ],
   "source": [
    "import re\n",
    "\n",
    "# Example input\n",
    "ip_address = \"192.168.1.1\"\n",
    "\n",
    "# Your regex pattern here\n",
    "pattern = r'^((25[0-5]|2[0-4]\\d|1\\d{2}|[1-9]?\\d)\\.){3}(25[0-5]|2[0-4]\\d|1\\d{2}|[1-9]?\\d)$'\n",
    "\n",
    "# Test the regex\n",
    "if re.match(pattern, ip_address):\n",
    "    print(\"Valid IP address\")\n",
    "else:\n",
    "    print(\"Invalid IP address\")"
   ]
  },
  {
   "cell_type": "markdown",
   "metadata": {},
   "source": [
    "### Exercise 10: Extract Hashtags \n",
    "Create a regex pattern to extract hashtags from a string."
   ]
  },
  {
   "cell_type": "code",
   "execution_count": 20,
   "metadata": {},
   "outputs": [
    {
     "name": "stdout",
     "output_type": "stream",
     "text": [
      "['#Python', '#Regex', '#Coding']\n"
     ]
    }
   ],
   "source": [
    "import re\n",
    "\n",
    "# Example input\n",
    "text = \"Here are some hashtags: #Python #Regex #Coding.\"\n",
    "\n",
    "# Your regex pattern here\n",
    "pattern = r'#\\w+'\n",
    "\n",
    "# Find all matches\n",
    "hashtags = re.findall(pattern, text)\n",
    "print(hashtags)"
   ]
  },
  {
   "cell_type": "markdown",
   "metadata": {},
   "source": [
    "## Bonus Exercises\n"
   ]
  },
  {
   "cell_type": "markdown",
   "metadata": {},
   "source": [
    "\n",
    "### Bonus Exercise 1: Match All Digits \n",
    "Write a regex pattern to match all digits in a given string."
   ]
  },
  {
   "cell_type": "code",
   "execution_count": 21,
   "metadata": {},
   "outputs": [
    {
     "name": "stdout",
     "output_type": "stream",
     "text": [
      "['2', '3']\n"
     ]
    }
   ],
   "source": [
    "import re\n",
    "\n",
    "# Example input\n",
    "text = \"There are 2 apples and 3 oranges.\"\n",
    "\n",
    "# Your regex pattern here\n",
    "pattern = r'\\d'\n",
    "\n",
    "# Find all matches\n",
    "digits = re.findall(pattern, text)\n",
    "print(digits)"
   ]
  },
  {
   "cell_type": "markdown",
   "metadata": {},
   "source": [
    "### Bonus Exercise 2: Validate Credit Card Numbers  \n",
    "Create a regex pattern to validate credit card numbers (16 digits)."
   ]
  },
  {
   "cell_type": "code",
   "execution_count": 22,
   "metadata": {},
   "outputs": [
    {
     "name": "stdout",
     "output_type": "stream",
     "text": [
      "Valid credit card number\n"
     ]
    }
   ],
   "source": [
    "import re\n",
    "\n",
    "# Example input\n",
    "credit_card_number = \"1234-5678-9876-5432\"\n",
    "\n",
    "# Your regex pattern here\n",
    "pattern = r'^(?:\\d{4}[- ]?){3}\\d{4}$'\n",
    "\n",
    "# Test the regex\n",
    "if re.match(pattern, credit_card_number):\n",
    "    print(\"Valid credit card number\")\n",
    "else:\n",
    "    print(\"Invalid credit card number\")"
   ]
  },
  {
   "cell_type": "markdown",
   "metadata": {},
   "source": [
    "### Bonus Exercise 3: Match Non-Alphanumeric Characters  \n",
    "Write a regex pattern to match non-alphanumeric characters in a string."
   ]
  },
  {
   "cell_type": "code",
   "execution_count": 23,
   "metadata": {},
   "outputs": [
    {
     "name": "stdout",
     "output_type": "stream",
     "text": [
      "['!', ' ', ' ', ' ', '?', ' ', '@', '.']\n"
     ]
    }
   ],
   "source": [
    "import re\n",
    "\n",
    "# Example input\n",
    "text = \"Hello! How are you? @Python3.\"\n",
    "\n",
    "# Your regex pattern here\n",
    "pattern = r'[^a-zA-Z0-9]'\n",
    "\n",
    "# Find all matches\n",
    "non_alphanumeric_chars = re.findall(pattern, text)\n",
    "print(non_alphanumeric_chars)"
   ]
  },
  {
   "cell_type": "markdown",
   "metadata": {},
   "source": [
    "### Bonus Exercise 4: Validate Date Format  \n",
    "Create a regex pattern to validate dates in the format DD/MM/YYYY."
   ]
  },
  {
   "cell_type": "code",
   "execution_count": 24,
   "metadata": {},
   "outputs": [
    {
     "name": "stdout",
     "output_type": "stream",
     "text": [
      "Valid date format\n"
     ]
    }
   ],
   "source": [
    "import re\n",
    "\n",
    "# Example input\n",
    "date_string = \"25/12/2024\"\n",
    "\n",
    "# Your regex pattern here\n",
    "pattern = r'^(0[1-9]|[12][0-9]|3[01])/(0[1-9]|1[0-2])/\\d{4}$'\n",
    "\n",
    "# Test the regex\n",
    "if re.match(pattern, date_string):\n",
    "    print(\"Valid date format\")\n",
    "else:\n",
    "    print(\"Invalid date format\")"
   ]
  },
  {
   "cell_type": "markdown",
   "metadata": {},
   "source": [
    "### Bonus Exercise 5: Extract Email Domains  \n",
    "Write a regex pattern to extract domains from email addresses."
   ]
  },
  {
   "cell_type": "code",
   "execution_count": 27,
   "metadata": {},
   "outputs": [
    {
     "name": "stdout",
     "output_type": "stream",
     "text": [
      "example.com\n",
      "domain.org\n"
     ]
    }
   ],
   "source": [
    "import re\n",
    "\n",
    "# Example input\n",
    "email_list = [\"user@example.com\", \"admin@domain.org\"]\n",
    "\n",
    "# Your regex pattern here\n",
    "pattern = r'@([\\w.-]+)'\n",
    "\n",
    "for email in email_list:\n",
    "    domain = re.search(pattern, email)\n",
    "    if domain:\n",
    "        print(domain.group(1)) # Print extracted domain part."
   ]
  },
  {
   "cell_type": "markdown",
   "metadata": {},
   "source": [
    "### Exercise Completion  \n",
    "Once you have completed all exercises:\n",
    "- Review your solutions.\n",
    "- Ensure your regular expressions and Python code are well-documented with comments explaining your logic.\n",
    "- Save your notebook for submission or further review.\n",
    "\n",
    "Happy coding! Enjoy practicing Regular Expressions in Python!"
   ]
  }
 ],
 "metadata": {
  "kernelspec": {
   "display_name": "base",
   "language": "python",
   "name": "python3"
  },
  "language_info": {
   "codemirror_mode": {
    "name": "ipython",
    "version": 3
   },
   "file_extension": ".py",
   "mimetype": "text/x-python",
   "name": "python",
   "nbconvert_exporter": "python",
   "pygments_lexer": "ipython3",
   "version": "3.12.7"
  }
 },
 "nbformat": 4,
 "nbformat_minor": 2
}
